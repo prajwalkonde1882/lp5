{
  "nbformat": 4,
  "nbformat_minor": 0,
  "metadata": {
    "colab": {
      "provenance": [],
      "gpuType": "T4"
    },
    "kernelspec": {
      "name": "python3",
      "display_name": "Python 3"
    },
    "language_info": {
      "name": "python"
    },
    "accelerator": "GPU"
  },
  "cells": [
    {
      "cell_type": "code",
      "execution_count": 13,
      "metadata": {
        "colab": {
          "base_uri": "https://localhost:8080/"
        },
        "id": "ksWbxKF6FpXv",
        "outputId": "e6bcf13d-2b9f-4211-bb07-8989a849b906"
      },
      "outputs": [
        {
          "output_type": "stream",
          "name": "stdout",
          "text": [
            "Writing add.cu\n"
          ]
        }
      ],
      "source": [
        "%%writefile add.cu\n",
        "\n",
        "\n",
        " #include <stdio.h>\n",
        "\n",
        "__global__ void add(float *A, float *B, float *C, int N)\n",
        "{\n",
        "\n",
        "    int i = blockIdx.x * blockDim.x + threadIdx.x;\n",
        "\n",
        "    if(i <N)\n",
        "    {\n",
        "       C[i]=A[i]+B[i];\n",
        "    }\n",
        "}\n",
        "int main()\n",
        "{\n",
        "  int N = 4;\n",
        "    size_t size = N  *sizeof(float);\n",
        "    float A[] = {1,2,3,4};\n",
        "    float B[] = {5,6,7,8};\n",
        "    float C[4];\n",
        "\n",
        "    float *d_A,*d_B,*d_C;\n",
        "\n",
        "    cudaMalloc(&d_A,size);\n",
        "    cudaMalloc(&d_B,size);\n",
        "    cudaMalloc(&d_C,size);\n",
        "\n",
        "    cudaMemcpy(d_A,A,size,cudaMemcpyHostToDevice);\n",
        "    cudaMemcpy(d_B,B,size,cudaMemcpyHostToDevice);\n",
        "\n",
        "    add<<<1,N>>>(d_A,d_B,d_C,N);\n",
        "    cudaMemcpy(C,d_C,size,cudaMemcpyDeviceToHost);\n",
        "\n",
        "    for(int i=0;i< N;i++)\n",
        "    {\n",
        "        printf(\" %f\",C[i]);\n",
        "        printf(\"\\n\");\n",
        "    }\n",
        "\n",
        "}"
      ]
    },
    {
      "cell_type": "code",
      "source": [
        "!nvcc -arch=sm_75 add.cu -o add"
      ],
      "metadata": {
        "id": "E5MOqab2Gceu"
      },
      "execution_count": 15,
      "outputs": []
    },
    {
      "cell_type": "code",
      "source": [
        "!./add"
      ],
      "metadata": {
        "colab": {
          "base_uri": "https://localhost:8080/"
        },
        "id": "bjyp-mC1GTGo",
        "outputId": "c58033ce-2db1-4ed4-81f9-c23e080a1e87"
      },
      "execution_count": 16,
      "outputs": [
        {
          "output_type": "stream",
          "name": "stdout",
          "text": [
            " 6.000000\n",
            " 8.000000\n",
            " 10.000000\n",
            " 12.000000\n"
          ]
        }
      ]
    },
    {
      "cell_type": "code",
      "source": [],
      "metadata": {
        "id": "7skg7x6eGTDO"
      },
      "execution_count": 11,
      "outputs": []
    },
    {
      "cell_type": "code",
      "source": [],
      "metadata": {
        "id": "veBtJ0ZcGTBX"
      },
      "execution_count": null,
      "outputs": []
    },
    {
      "cell_type": "code",
      "source": [],
      "metadata": {
        "id": "8CPw3VVYGS-5"
      },
      "execution_count": null,
      "outputs": []
    },
    {
      "cell_type": "code",
      "source": [],
      "metadata": {
        "id": "cH68kkIjGS8r"
      },
      "execution_count": null,
      "outputs": []
    }
  ]
}